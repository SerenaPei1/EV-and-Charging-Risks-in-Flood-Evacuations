{
 "cells": [
  {
   "cell_type": "code",
   "execution_count": 32,
   "id": "725676bc",
   "metadata": {},
   "outputs": [],
   "source": [
    "import pandas as pd\n",
    "import geopandas as gpd\n",
    "import matplotlib.pyplot as plt\n",
    "import numpy as np\n",
    "import pathlib\n",
    "import math"
   ]
  },
  {
   "cell_type": "markdown",
   "id": "68eeee3f",
   "metadata": {},
   "source": [
    "### Population Data\n",
    "\n",
    "Collected from censusreporter.org - https://censusreporter.org/data/table/?table=B01003&geo_ids=16000US1714000,140|16000US1714000&primary_geo_id=16000US1714000\n",
    "\n",
    "ASC 5-year 2021 B01003 Total Population\n",
    "\n",
    "Note: to know what the column represent, please check on the metadata.json file in each folder"
   ]
  },
  {
   "cell_type": "code",
   "execution_count": 33,
   "id": "c2feaef2",
   "metadata": {},
   "outputs": [],
   "source": [
    "filename = 'Census Data/Census/acs2021_5yr_B01003_14000US17031250700/acs2021_5yr_B01003_14000US17031250700.shp'\n",
    "pop_df = gpd.read_file(filename)"
   ]
  },
  {
   "cell_type": "code",
   "execution_count": 34,
   "id": "00039795",
   "metadata": {},
   "outputs": [
    {
     "name": "stdout",
     "output_type": "stream",
     "text": [
      "                  geoid                              name  B01003001  \\\n",
      "0    14000US17031010100        Census Tract 101, Cook, IL     4534.0   \n",
      "1    14000US17031010201     Census Tract 102.01, Cook, IL     8232.0   \n",
      "2    14000US17031010202     Census Tract 102.02, Cook, IL     3124.0   \n",
      "3    14000US17031010300        Census Tract 103, Cook, IL     6085.0   \n",
      "4    14000US17031010400        Census Tract 104, Cook, IL     4587.0   \n",
      "..                  ...                               ...        ...   \n",
      "797  14000US17031980000       Census Tract 9800, Cook, IL        0.0   \n",
      "798  14000US17031980100       Census Tract 9801, Cook, IL        0.0   \n",
      "799  14000US17043840000     Census Tract 8400, DuPage, IL     2898.0   \n",
      "800  14000US17043840801  Census Tract 8408.01, DuPage, IL     2590.0   \n",
      "801      16000US1714000                       Chicago, IL  2742119.0   \n",
      "\n",
      "     B01003001e                                           geometry  \n",
      "0         691.0  POLYGON ((-87.67720 42.02294, -87.67628 42.022...  \n",
      "1        1160.0  POLYGON ((-87.68465 42.01948, -87.68432 42.019...  \n",
      "2         489.0  POLYGON ((-87.67683 42.01941, -87.67674 42.019...  \n",
      "3         971.0  POLYGON ((-87.67133 42.01937, -87.67121 42.019...  \n",
      "4         675.0  POLYGON ((-87.66345 42.01283, -87.66321 42.012...  \n",
      "..          ...                                                ...  \n",
      "797        12.0  POLYGON ((-87.94025 42.00717, -87.94017 42.007...  \n",
      "798        12.0  POLYGON ((-87.76230 41.79274, -87.76206 41.792...  \n",
      "799       412.0  POLYGON ((-87.95924 41.99113, -87.95923 41.993...  \n",
      "800       407.0  POLYGON ((-87.94393 41.95006, -87.94253 41.950...  \n",
      "801       137.0  POLYGON ((-87.94010 42.00079, -87.93993 42.000...  \n",
      "\n",
      "[802 rows x 5 columns]\n"
     ]
    }
   ],
   "source": [
    "print(pop_df)"
   ]
  },
  {
   "cell_type": "code",
   "execution_count": 35,
   "id": "2e1df168",
   "metadata": {},
   "outputs": [],
   "source": [
    "boundary = pop_df[:800] # Delete Chicago,IL row"
   ]
  },
  {
   "cell_type": "code",
   "execution_count": 36,
   "id": "cffc3449",
   "metadata": {},
   "outputs": [],
   "source": [
    "boundary.to_file('data/Boundaries - Census Tracts/chicago_boundary_tract.shp') "
   ]
  },
  {
   "cell_type": "markdown",
   "id": "d99c76c6",
   "metadata": {},
   "source": [
    "### Total Household Data\n",
    "\n",
    "Collected from censusreporter.org - https://censusreporter.org/data/table/?table=B11012&geo_ids=16000US1714000,140|16000US1714000&primary_geo_id=16000US1714000#valueType|estimate\n",
    "\n",
    "ASC 5-year 2021 B11012: Households by Type\n",
    "\n",
    "Note: to know what the column represent, please check on the metadata.json file in each folder"
   ]
  },
  {
   "cell_type": "code",
   "execution_count": 4,
   "id": "a1901e70",
   "metadata": {},
   "outputs": [],
   "source": [
    "filename = 'Census Data/Census/acs2021_5yr_B11012_14000US17031250700/acs2021_5yr_B11012_14000US17031250700.shp'\n",
    "hh_df = gpd.read_file(filename)"
   ]
  },
  {
   "cell_type": "markdown",
   "id": "7375ff91",
   "metadata": {},
   "source": [
    "### Household Median Income Data\n",
    "\n",
    "Collected from censusreporter.org - https://censusreporter.org/data/table/?table=B19013&geo_ids=16000US1714000,140|16000US1714000&primary_geo_id=16000US1714000\n",
    "\n",
    "ASC 5-year 2021 B19013: Median Household Income\n",
    "\n",
    "Note: to know what the column represent, please check on the metadata.json file in each folder"
   ]
  },
  {
   "cell_type": "code",
   "execution_count": 5,
   "id": "df18b025",
   "metadata": {},
   "outputs": [
    {
     "data": {
      "text/html": [
       "<div>\n",
       "<style scoped>\n",
       "    .dataframe tbody tr th:only-of-type {\n",
       "        vertical-align: middle;\n",
       "    }\n",
       "\n",
       "    .dataframe tbody tr th {\n",
       "        vertical-align: top;\n",
       "    }\n",
       "\n",
       "    .dataframe thead th {\n",
       "        text-align: right;\n",
       "    }\n",
       "</style>\n",
       "<table border=\"1\" class=\"dataframe\">\n",
       "  <thead>\n",
       "    <tr style=\"text-align: right;\">\n",
       "      <th></th>\n",
       "      <th>geoid</th>\n",
       "      <th>name</th>\n",
       "      <th>B19013001</th>\n",
       "      <th>B19013001e</th>\n",
       "      <th>geometry</th>\n",
       "    </tr>\n",
       "  </thead>\n",
       "  <tbody>\n",
       "    <tr>\n",
       "      <th>0</th>\n",
       "      <td>14000US17031010100</td>\n",
       "      <td>Census Tract 101, Cook, IL</td>\n",
       "      <td>60316.0</td>\n",
       "      <td>24932.0</td>\n",
       "      <td>POLYGON ((-87.67720 42.02294, -87.67628 42.022...</td>\n",
       "    </tr>\n",
       "    <tr>\n",
       "      <th>1</th>\n",
       "      <td>14000US17031010201</td>\n",
       "      <td>Census Tract 102.01, Cook, IL</td>\n",
       "      <td>43750.0</td>\n",
       "      <td>21149.0</td>\n",
       "      <td>POLYGON ((-87.68465 42.01948, -87.68432 42.019...</td>\n",
       "    </tr>\n",
       "    <tr>\n",
       "      <th>2</th>\n",
       "      <td>14000US17031010202</td>\n",
       "      <td>Census Tract 102.02, Cook, IL</td>\n",
       "      <td>45096.0</td>\n",
       "      <td>5367.0</td>\n",
       "      <td>POLYGON ((-87.67683 42.01941, -87.67674 42.019...</td>\n",
       "    </tr>\n",
       "    <tr>\n",
       "      <th>3</th>\n",
       "      <td>14000US17031010300</td>\n",
       "      <td>Census Tract 103, Cook, IL</td>\n",
       "      <td>60846.0</td>\n",
       "      <td>13337.0</td>\n",
       "      <td>POLYGON ((-87.67133 42.01937, -87.67121 42.019...</td>\n",
       "    </tr>\n",
       "    <tr>\n",
       "      <th>4</th>\n",
       "      <td>14000US17031010400</td>\n",
       "      <td>Census Tract 104, Cook, IL</td>\n",
       "      <td>43024.0</td>\n",
       "      <td>8584.0</td>\n",
       "      <td>POLYGON ((-87.66345 42.01283, -87.66321 42.012...</td>\n",
       "    </tr>\n",
       "  </tbody>\n",
       "</table>\n",
       "</div>"
      ],
      "text/plain": [
       "                geoid                           name  B19013001  B19013001e  \\\n",
       "0  14000US17031010100     Census Tract 101, Cook, IL    60316.0     24932.0   \n",
       "1  14000US17031010201  Census Tract 102.01, Cook, IL    43750.0     21149.0   \n",
       "2  14000US17031010202  Census Tract 102.02, Cook, IL    45096.0      5367.0   \n",
       "3  14000US17031010300     Census Tract 103, Cook, IL    60846.0     13337.0   \n",
       "4  14000US17031010400     Census Tract 104, Cook, IL    43024.0      8584.0   \n",
       "\n",
       "                                            geometry  \n",
       "0  POLYGON ((-87.67720 42.02294, -87.67628 42.022...  \n",
       "1  POLYGON ((-87.68465 42.01948, -87.68432 42.019...  \n",
       "2  POLYGON ((-87.67683 42.01941, -87.67674 42.019...  \n",
       "3  POLYGON ((-87.67133 42.01937, -87.67121 42.019...  \n",
       "4  POLYGON ((-87.66345 42.01283, -87.66321 42.012...  "
      ]
     },
     "execution_count": 5,
     "metadata": {},
     "output_type": "execute_result"
    }
   ],
   "source": [
    "filename = 'Census Data/Census/acs2021_5yr_B19013_14000US17031250700/acs2021_5yr_B19013_14000US17031250700.shp'\n",
    "hh_income_df = gpd.read_file(filename)\n",
    "hh_income_df.head()"
   ]
  },
  {
   "cell_type": "markdown",
   "id": "7488cb2c",
   "metadata": {},
   "source": [
    "### Household Size by Vehicles Available\n",
    "\n",
    "Collected from censusreporter.org - https://censusreporter.org/data/table/?table=B08201&geo_ids=16000US1714000,140|16000US1714000&primary_geo_id=16000US1714000\n",
    "\n",
    "ASC 5-year 2021 B08201: Household Size by Vehicles Available\n",
    "\n",
    "Note: to know what the column represent, please check on the metadata.json file in each folder"
   ]
  },
  {
   "cell_type": "code",
   "execution_count": 6,
   "id": "3c107fee",
   "metadata": {},
   "outputs": [],
   "source": [
    "filename = 'Census Data/Census/acs2021_5yr_B08201_14000US17031250700/acs2021_5yr_B08201_14000US17031250700.shp'\n",
    "hh_vh_df = gpd.read_file(filename)"
   ]
  },
  {
   "cell_type": "markdown",
   "id": "eda318ba",
   "metadata": {},
   "source": [
    "### Means of Transportation to Work\n",
    "\n",
    "Collected from censusreporter.org - https://censusreporter.org/data/table/?table=B08301&geo_ids=16000US1714000,140|16000US1714000&primary_geo_id=16000US1714000\n",
    "\n",
    "ASC 5-year 2021 B08301: Means of Transportation to Work\n",
    "\n",
    "Note: to know what the column represent, please check on the metadata.json file in each folder"
   ]
  },
  {
   "cell_type": "code",
   "execution_count": 7,
   "id": "b3521561",
   "metadata": {},
   "outputs": [],
   "source": [
    "filename = 'Census Data/Census/acs2021_5yr_B08301_14000US17031250700/acs2021_5yr_B08301_14000US17031250700.shp'\n",
    "transport_df = gpd.read_file(filename)"
   ]
  },
  {
   "cell_type": "markdown",
   "id": "2d45b479",
   "metadata": {},
   "source": [
    "### Combine Census Data\n",
    "\n",
    "In here, we only use the estimate. We ignore the error value"
   ]
  },
  {
   "cell_type": "code",
   "execution_count": 8,
   "id": "72f02201",
   "metadata": {},
   "outputs": [
    {
     "data": {
      "text/plain": [
       "Index(['geoid', 'name', 'B01003001', 'B01003001e', 'geometry'], dtype='object')"
      ]
     },
     "execution_count": 8,
     "metadata": {},
     "output_type": "execute_result"
    }
   ],
   "source": [
    "pop_df.columns"
   ]
  },
  {
   "cell_type": "code",
   "execution_count": 9,
   "id": "7bd17293",
   "metadata": {},
   "outputs": [
    {
     "data": {
      "text/html": [
       "<div>\n",
       "<style scoped>\n",
       "    .dataframe tbody tr th:only-of-type {\n",
       "        vertical-align: middle;\n",
       "    }\n",
       "\n",
       "    .dataframe tbody tr th {\n",
       "        vertical-align: top;\n",
       "    }\n",
       "\n",
       "    .dataframe thead th {\n",
       "        text-align: right;\n",
       "    }\n",
       "</style>\n",
       "<table border=\"1\" class=\"dataframe\">\n",
       "  <thead>\n",
       "    <tr style=\"text-align: right;\">\n",
       "      <th></th>\n",
       "      <th>geoid</th>\n",
       "      <th>name</th>\n",
       "      <th>B01003001</th>\n",
       "      <th>geometry</th>\n",
       "    </tr>\n",
       "  </thead>\n",
       "  <tbody>\n",
       "    <tr>\n",
       "      <th>0</th>\n",
       "      <td>14000US17031010100</td>\n",
       "      <td>Census Tract 101, Cook, IL</td>\n",
       "      <td>4534.0</td>\n",
       "      <td>POLYGON ((-87.67720 42.02294, -87.67628 42.022...</td>\n",
       "    </tr>\n",
       "    <tr>\n",
       "      <th>1</th>\n",
       "      <td>14000US17031010201</td>\n",
       "      <td>Census Tract 102.01, Cook, IL</td>\n",
       "      <td>8232.0</td>\n",
       "      <td>POLYGON ((-87.68465 42.01948, -87.68432 42.019...</td>\n",
       "    </tr>\n",
       "    <tr>\n",
       "      <th>2</th>\n",
       "      <td>14000US17031010202</td>\n",
       "      <td>Census Tract 102.02, Cook, IL</td>\n",
       "      <td>3124.0</td>\n",
       "      <td>POLYGON ((-87.67683 42.01941, -87.67674 42.019...</td>\n",
       "    </tr>\n",
       "    <tr>\n",
       "      <th>3</th>\n",
       "      <td>14000US17031010300</td>\n",
       "      <td>Census Tract 103, Cook, IL</td>\n",
       "      <td>6085.0</td>\n",
       "      <td>POLYGON ((-87.67133 42.01937, -87.67121 42.019...</td>\n",
       "    </tr>\n",
       "    <tr>\n",
       "      <th>4</th>\n",
       "      <td>14000US17031010400</td>\n",
       "      <td>Census Tract 104, Cook, IL</td>\n",
       "      <td>4587.0</td>\n",
       "      <td>POLYGON ((-87.66345 42.01283, -87.66321 42.012...</td>\n",
       "    </tr>\n",
       "  </tbody>\n",
       "</table>\n",
       "</div>"
      ],
      "text/plain": [
       "                geoid                           name  B01003001  \\\n",
       "0  14000US17031010100     Census Tract 101, Cook, IL     4534.0   \n",
       "1  14000US17031010201  Census Tract 102.01, Cook, IL     8232.0   \n",
       "2  14000US17031010202  Census Tract 102.02, Cook, IL     3124.0   \n",
       "3  14000US17031010300     Census Tract 103, Cook, IL     6085.0   \n",
       "4  14000US17031010400     Census Tract 104, Cook, IL     4587.0   \n",
       "\n",
       "                                            geometry  \n",
       "0  POLYGON ((-87.67720 42.02294, -87.67628 42.022...  \n",
       "1  POLYGON ((-87.68465 42.01948, -87.68432 42.019...  \n",
       "2  POLYGON ((-87.67683 42.01941, -87.67674 42.019...  \n",
       "3  POLYGON ((-87.67133 42.01937, -87.67121 42.019...  \n",
       "4  POLYGON ((-87.66345 42.01283, -87.66321 42.012...  "
      ]
     },
     "execution_count": 9,
     "metadata": {},
     "output_type": "execute_result"
    }
   ],
   "source": [
    "pop_df = pop_df[['geoid', 'name', 'B01003001', 'geometry']]\n",
    "pop_df.head()"
   ]
  },
  {
   "cell_type": "code",
   "execution_count": 10,
   "id": "67312419",
   "metadata": {},
   "outputs": [
    {
     "data": {
      "text/plain": [
       "Index(['geoid', 'name', 'B11012001', 'B11012001e', 'B11012002', 'B11012002e',\n",
       "       'B11012003', 'B11012003e', 'B11012004', 'B11012004e', 'B11012005',\n",
       "       'B11012005e', 'B11012006', 'B11012006e', 'B11012007', 'B11012007e',\n",
       "       'B11012008', 'B11012008e', 'B11012009', 'B11012009e', 'B11012010',\n",
       "       'B11012010e', 'B11012011', 'B11012011e', 'B11012012', 'B11012012e',\n",
       "       'B11012013', 'B11012013e', 'B11012014', 'B11012014e', 'B11012015',\n",
       "       'B11012015e', 'B11012016', 'B11012016e', 'B11012017', 'B11012017e',\n",
       "       'geometry'],\n",
       "      dtype='object')"
      ]
     },
     "execution_count": 10,
     "metadata": {},
     "output_type": "execute_result"
    }
   ],
   "source": [
    "hh_df.columns"
   ]
  },
  {
   "cell_type": "code",
   "execution_count": 11,
   "id": "d7c2b5da",
   "metadata": {},
   "outputs": [
    {
     "data": {
      "text/html": [
       "<div>\n",
       "<style scoped>\n",
       "    .dataframe tbody tr th:only-of-type {\n",
       "        vertical-align: middle;\n",
       "    }\n",
       "\n",
       "    .dataframe tbody tr th {\n",
       "        vertical-align: top;\n",
       "    }\n",
       "\n",
       "    .dataframe thead th {\n",
       "        text-align: right;\n",
       "    }\n",
       "</style>\n",
       "<table border=\"1\" class=\"dataframe\">\n",
       "  <thead>\n",
       "    <tr style=\"text-align: right;\">\n",
       "      <th></th>\n",
       "      <th>geoid</th>\n",
       "      <th>B11012001</th>\n",
       "    </tr>\n",
       "  </thead>\n",
       "  <tbody>\n",
       "    <tr>\n",
       "      <th>0</th>\n",
       "      <td>14000US17031010100</td>\n",
       "      <td>2411.0</td>\n",
       "    </tr>\n",
       "    <tr>\n",
       "      <th>1</th>\n",
       "      <td>14000US17031010201</td>\n",
       "      <td>2996.0</td>\n",
       "    </tr>\n",
       "    <tr>\n",
       "      <th>2</th>\n",
       "      <td>14000US17031010202</td>\n",
       "      <td>1234.0</td>\n",
       "    </tr>\n",
       "    <tr>\n",
       "      <th>3</th>\n",
       "      <td>14000US17031010300</td>\n",
       "      <td>2995.0</td>\n",
       "    </tr>\n",
       "    <tr>\n",
       "      <th>4</th>\n",
       "      <td>14000US17031010400</td>\n",
       "      <td>2034.0</td>\n",
       "    </tr>\n",
       "  </tbody>\n",
       "</table>\n",
       "</div>"
      ],
      "text/plain": [
       "                geoid  B11012001\n",
       "0  14000US17031010100     2411.0\n",
       "1  14000US17031010201     2996.0\n",
       "2  14000US17031010202     1234.0\n",
       "3  14000US17031010300     2995.0\n",
       "4  14000US17031010400     2034.0"
      ]
     },
     "execution_count": 11,
     "metadata": {},
     "output_type": "execute_result"
    }
   ],
   "source": [
    "hh_df = hh_df[['geoid', 'B11012001']]\n",
    "hh_df.head()"
   ]
  },
  {
   "cell_type": "code",
   "execution_count": 12,
   "id": "326e2427",
   "metadata": {},
   "outputs": [
    {
     "data": {
      "text/plain": [
       "Index(['geoid', 'name', 'B19013001', 'B19013001e', 'geometry'], dtype='object')"
      ]
     },
     "execution_count": 12,
     "metadata": {},
     "output_type": "execute_result"
    }
   ],
   "source": [
    "hh_income_df.columns"
   ]
  },
  {
   "cell_type": "code",
   "execution_count": 13,
   "id": "fe034bd2",
   "metadata": {},
   "outputs": [],
   "source": [
    "hh_income_df = hh_income_df[['geoid', 'B19013001']]"
   ]
  },
  {
   "cell_type": "code",
   "execution_count": 14,
   "id": "25973f3e",
   "metadata": {},
   "outputs": [
    {
     "data": {
      "text/plain": [
       "Index(['geoid', 'name', 'B08201001', 'B08201001e', 'B08201002', 'B08201002e',\n",
       "       'B08201003', 'B08201003e', 'B08201004', 'B08201004e', 'B08201005',\n",
       "       'B08201005e', 'B08201006', 'B08201006e', 'B08201007', 'B08201007e',\n",
       "       'B08201008', 'B08201008e', 'B08201009', 'B08201009e', 'B08201010',\n",
       "       'B08201010e', 'B08201011', 'B08201011e', 'B08201012', 'B08201012e',\n",
       "       'B08201013', 'B08201013e', 'B08201014', 'B08201014e', 'B08201015',\n",
       "       'B08201015e', 'B08201016', 'B08201016e', 'B08201017', 'B08201017e',\n",
       "       'B08201018', 'B08201018e', 'B08201019', 'B08201019e', 'B08201020',\n",
       "       'B08201020e', 'B08201021', 'B08201021e', 'B08201022', 'B08201022e',\n",
       "       'B08201023', 'B08201023e', 'B08201024', 'B08201024e', 'B08201025',\n",
       "       'B08201025e', 'B08201026', 'B08201026e', 'B08201027', 'B08201027e',\n",
       "       'B08201028', 'B08201028e', 'B08201029', 'B08201029e', 'B08201030',\n",
       "       'B08201030e', 'geometry'],\n",
       "      dtype='object')"
      ]
     },
     "execution_count": 14,
     "metadata": {},
     "output_type": "execute_result"
    }
   ],
   "source": [
    "hh_vh_df.columns"
   ]
  },
  {
   "cell_type": "code",
   "execution_count": 15,
   "id": "c47d1bd2",
   "metadata": {},
   "outputs": [],
   "source": [
    "hh_vh_df= hh_vh_df[['geoid','B08201002', 'B08201003','B08201004','B08201005','B08201006']]"
   ]
  },
  {
   "cell_type": "code",
   "execution_count": 16,
   "id": "ac781f32",
   "metadata": {},
   "outputs": [
    {
     "data": {
      "text/plain": [
       "Index(['geoid', 'name', 'B08301001', 'B08301001e', 'B08301002', 'B08301002e',\n",
       "       'B08301003', 'B08301003e', 'B08301004', 'B08301004e', 'B08301005',\n",
       "       'B08301005e', 'B08301006', 'B08301006e', 'B08301007', 'B08301007e',\n",
       "       'B08301008', 'B08301008e', 'B08301009', 'B08301009e', 'B08301010',\n",
       "       'B08301010e', 'B08301011', 'B08301011e', 'B08301012', 'B08301012e',\n",
       "       'B08301013', 'B08301013e', 'B08301014', 'B08301014e', 'B08301015',\n",
       "       'B08301015e', 'B08301016', 'B08301016e', 'B08301017', 'B08301017e',\n",
       "       'B08301018', 'B08301018e', 'B08301019', 'B08301019e', 'B08301020',\n",
       "       'B08301020e', 'B08301021', 'B08301021e', 'geometry'],\n",
       "      dtype='object')"
      ]
     },
     "execution_count": 16,
     "metadata": {},
     "output_type": "execute_result"
    }
   ],
   "source": [
    "transport_df.columns"
   ]
  },
  {
   "cell_type": "code",
   "execution_count": 17,
   "id": "8c8f1c92",
   "metadata": {},
   "outputs": [],
   "source": [
    "transport_df = transport_df[['geoid','B08301002', 'B08301003', 'B08301004', 'B08301005','B08301006', \n",
    "                             'B08301007', 'B08301008', 'B08301009']]"
   ]
  },
  {
   "cell_type": "code",
   "execution_count": 18,
   "id": "eebdac2d",
   "metadata": {},
   "outputs": [],
   "source": [
    "### data merge\n",
    "\n",
    "census_df = pop_df.merge(hh_df, on='geoid', how='left')\n",
    "census_df = census_df.merge(hh_income_df, on='geoid', how='left')\n",
    "census_df = census_df.merge(hh_vh_df, on='geoid', how='left')\n",
    "census_df = census_df.merge(transport_df, on='geoid', how='left')"
   ]
  },
  {
   "cell_type": "code",
   "execution_count": 19,
   "id": "ec9192c2",
   "metadata": {},
   "outputs": [],
   "source": [
    "### Put Administrative Data"
   ]
  },
  {
   "cell_type": "code",
   "execution_count": 20,
   "id": "e1b8f639",
   "metadata": {},
   "outputs": [],
   "source": [
    "census_df['geoid']= census_df.geoid.str[7:]"
   ]
  },
  {
   "cell_type": "code",
   "execution_count": 21,
   "id": "1942530c",
   "metadata": {},
   "outputs": [],
   "source": [
    "census_df['STATEFP']=census_df.geoid.str[:2]\n",
    "census_df['COUNTYFP']=census_df.geoid.str[2:5]\n",
    "census_df['TRACTFP']=census_df.geoid.str[5:]"
   ]
  },
  {
   "cell_type": "code",
   "execution_count": 22,
   "id": "63a1a53c",
   "metadata": {},
   "outputs": [],
   "source": [
    "### Put zipcode\n",
    "filename = 'data/Boundaries - Zip Codes/chicago_boundary_zip.shp'\n",
    "zip_df = gpd.read_file(filename) \n",
    "\n",
    "\n",
    "\n"
   ]
  },
  {
   "cell_type": "code",
   "execution_count": 23,
   "id": "d5e41532",
   "metadata": {},
   "outputs": [],
   "source": [
    "census_df = census_df[:800] # Delete Chicago,IL row"
   ]
  },
  {
   "cell_type": "code",
   "execution_count": 24,
   "id": "fc442392",
   "metadata": {},
   "outputs": [],
   "source": [
    "census_df['B08201_avg']=np.ceil((0*census_df.B08201002+1*census_df.B08201003\n",
    "                         +2*census_df.B08201004+3*census_df.B08201005+4*census_df.B08201006)/census_df.B11012001)\n",
    "census_df['B08201_avg'] = census_df['B08201_avg'].fillna(0)\n",
    "\n",
    "census_df['B08301_avg']=np.ceil((1*census_df.B08301003+2*census_df.B08301005+3*census_df.B08301006\n",
    "                               +4*census_df.B08301007+5*census_df.B08301008\n",
    "                               +7*census_df.B08301009)/census_df.B08301002)\n",
    "census_df['B08301_avg'] = census_df['B08301_avg'].fillna(0)"
   ]
  },
  {
   "cell_type": "code",
   "execution_count": 25,
   "id": "7a251b98",
   "metadata": {},
   "outputs": [],
   "source": [
    "census_df = census_df[['geoid','STATEFP','COUNTYFP','TRACTFP',\n",
    "                       'B01003001', 'B11012001', 'B19013001','B08201002',\n",
    "                       'B08201003', 'B08201004', 'B08201005', 'B08201006', 'B08301002',\n",
    "                       'B08301003', 'B08301004', 'B08301005', 'B08301006', 'B08301007',\n",
    "                       'B08301008', 'B08301009','B08201_avg','B08301_avg','geometry']]"
   ]
  },
  {
   "cell_type": "code",
   "execution_count": 26,
   "id": "357bd27c",
   "metadata": {},
   "outputs": [],
   "source": [
    "census_df.columns = ['GEOID','STATEFP','COUNTYFP','TRACTFP',\n",
    "                     'TotPop', 'TotHshld', 'MedHInc','HH0Veh',\n",
    "                     'HH1Veh', 'HH2Veh', 'HH3Veh', 'HH4pVeh', 'WrkDrv',\n",
    "                     'WrkAlone', 'Carpool', 'Carp2', 'Carp3', 'Carp4',\n",
    "                     'Carp56', 'Carp7p','VehAvg','CarpAvg','geometry']"
   ]
  },
  {
   "cell_type": "code",
   "execution_count": 27,
   "id": "89cfddfc",
   "metadata": {},
   "outputs": [
    {
     "data": {
      "text/html": [
       "<div>\n",
       "<style scoped>\n",
       "    .dataframe tbody tr th:only-of-type {\n",
       "        vertical-align: middle;\n",
       "    }\n",
       "\n",
       "    .dataframe tbody tr th {\n",
       "        vertical-align: top;\n",
       "    }\n",
       "\n",
       "    .dataframe thead th {\n",
       "        text-align: right;\n",
       "    }\n",
       "</style>\n",
       "<table border=\"1\" class=\"dataframe\">\n",
       "  <thead>\n",
       "    <tr style=\"text-align: right;\">\n",
       "      <th></th>\n",
       "      <th>GEOID</th>\n",
       "      <th>STATEFP</th>\n",
       "      <th>COUNTYFP</th>\n",
       "      <th>TRACTFP</th>\n",
       "      <th>TotPop</th>\n",
       "      <th>TotHshld</th>\n",
       "      <th>MedHInc</th>\n",
       "      <th>HH0Veh</th>\n",
       "      <th>HH1Veh</th>\n",
       "      <th>HH2Veh</th>\n",
       "      <th>...</th>\n",
       "      <th>WrkAlone</th>\n",
       "      <th>Carpool</th>\n",
       "      <th>Carp2</th>\n",
       "      <th>Carp3</th>\n",
       "      <th>Carp4</th>\n",
       "      <th>Carp56</th>\n",
       "      <th>Carp7p</th>\n",
       "      <th>VehAvg</th>\n",
       "      <th>CarpAvg</th>\n",
       "      <th>geometry</th>\n",
       "    </tr>\n",
       "  </thead>\n",
       "  <tbody>\n",
       "    <tr>\n",
       "      <th>0</th>\n",
       "      <td>17031010100</td>\n",
       "      <td>17</td>\n",
       "      <td>031</td>\n",
       "      <td>010100</td>\n",
       "      <td>4534.0</td>\n",
       "      <td>2411.0</td>\n",
       "      <td>60316.0</td>\n",
       "      <td>1116.0</td>\n",
       "      <td>912.0</td>\n",
       "      <td>355.0</td>\n",
       "      <td>...</td>\n",
       "      <td>932.0</td>\n",
       "      <td>35.0</td>\n",
       "      <td>0.0</td>\n",
       "      <td>35.0</td>\n",
       "      <td>0.0</td>\n",
       "      <td>0.0</td>\n",
       "      <td>0.0</td>\n",
       "      <td>1.0</td>\n",
       "      <td>2.0</td>\n",
       "      <td>POLYGON ((-87.67720 42.02294, -87.67628 42.022...</td>\n",
       "    </tr>\n",
       "    <tr>\n",
       "      <th>1</th>\n",
       "      <td>17031010201</td>\n",
       "      <td>17</td>\n",
       "      <td>031</td>\n",
       "      <td>010201</td>\n",
       "      <td>8232.0</td>\n",
       "      <td>2996.0</td>\n",
       "      <td>43750.0</td>\n",
       "      <td>895.0</td>\n",
       "      <td>1510.0</td>\n",
       "      <td>496.0</td>\n",
       "      <td>...</td>\n",
       "      <td>1835.0</td>\n",
       "      <td>294.0</td>\n",
       "      <td>203.0</td>\n",
       "      <td>91.0</td>\n",
       "      <td>0.0</td>\n",
       "      <td>0.0</td>\n",
       "      <td>0.0</td>\n",
       "      <td>1.0</td>\n",
       "      <td>2.0</td>\n",
       "      <td>POLYGON ((-87.68465 42.01948, -87.68432 42.019...</td>\n",
       "    </tr>\n",
       "    <tr>\n",
       "      <th>2</th>\n",
       "      <td>17031010202</td>\n",
       "      <td>17</td>\n",
       "      <td>031</td>\n",
       "      <td>010202</td>\n",
       "      <td>3124.0</td>\n",
       "      <td>1234.0</td>\n",
       "      <td>45096.0</td>\n",
       "      <td>487.0</td>\n",
       "      <td>615.0</td>\n",
       "      <td>87.0</td>\n",
       "      <td>...</td>\n",
       "      <td>556.0</td>\n",
       "      <td>45.0</td>\n",
       "      <td>29.0</td>\n",
       "      <td>9.0</td>\n",
       "      <td>7.0</td>\n",
       "      <td>0.0</td>\n",
       "      <td>0.0</td>\n",
       "      <td>1.0</td>\n",
       "      <td>2.0</td>\n",
       "      <td>POLYGON ((-87.67683 42.01941, -87.67674 42.019...</td>\n",
       "    </tr>\n",
       "    <tr>\n",
       "      <th>3</th>\n",
       "      <td>17031010300</td>\n",
       "      <td>17</td>\n",
       "      <td>031</td>\n",
       "      <td>010300</td>\n",
       "      <td>6085.0</td>\n",
       "      <td>2995.0</td>\n",
       "      <td>60846.0</td>\n",
       "      <td>1108.0</td>\n",
       "      <td>1095.0</td>\n",
       "      <td>732.0</td>\n",
       "      <td>...</td>\n",
       "      <td>1722.0</td>\n",
       "      <td>203.0</td>\n",
       "      <td>170.0</td>\n",
       "      <td>15.0</td>\n",
       "      <td>18.0</td>\n",
       "      <td>0.0</td>\n",
       "      <td>0.0</td>\n",
       "      <td>1.0</td>\n",
       "      <td>2.0</td>\n",
       "      <td>POLYGON ((-87.67133 42.01937, -87.67121 42.019...</td>\n",
       "    </tr>\n",
       "    <tr>\n",
       "      <th>4</th>\n",
       "      <td>17031010400</td>\n",
       "      <td>17</td>\n",
       "      <td>031</td>\n",
       "      <td>010400</td>\n",
       "      <td>4587.0</td>\n",
       "      <td>2034.0</td>\n",
       "      <td>43024.0</td>\n",
       "      <td>989.0</td>\n",
       "      <td>878.0</td>\n",
       "      <td>150.0</td>\n",
       "      <td>...</td>\n",
       "      <td>740.0</td>\n",
       "      <td>49.0</td>\n",
       "      <td>10.0</td>\n",
       "      <td>0.0</td>\n",
       "      <td>0.0</td>\n",
       "      <td>39.0</td>\n",
       "      <td>0.0</td>\n",
       "      <td>1.0</td>\n",
       "      <td>2.0</td>\n",
       "      <td>POLYGON ((-87.66345 42.01283, -87.66321 42.012...</td>\n",
       "    </tr>\n",
       "    <tr>\n",
       "      <th>...</th>\n",
       "      <td>...</td>\n",
       "      <td>...</td>\n",
       "      <td>...</td>\n",
       "      <td>...</td>\n",
       "      <td>...</td>\n",
       "      <td>...</td>\n",
       "      <td>...</td>\n",
       "      <td>...</td>\n",
       "      <td>...</td>\n",
       "      <td>...</td>\n",
       "      <td>...</td>\n",
       "      <td>...</td>\n",
       "      <td>...</td>\n",
       "      <td>...</td>\n",
       "      <td>...</td>\n",
       "      <td>...</td>\n",
       "      <td>...</td>\n",
       "      <td>...</td>\n",
       "      <td>...</td>\n",
       "      <td>...</td>\n",
       "      <td>...</td>\n",
       "    </tr>\n",
       "    <tr>\n",
       "      <th>795</th>\n",
       "      <td>17031844600</td>\n",
       "      <td>17</td>\n",
       "      <td>031</td>\n",
       "      <td>844600</td>\n",
       "      <td>2490.0</td>\n",
       "      <td>809.0</td>\n",
       "      <td>67634.0</td>\n",
       "      <td>165.0</td>\n",
       "      <td>517.0</td>\n",
       "      <td>60.0</td>\n",
       "      <td>...</td>\n",
       "      <td>527.0</td>\n",
       "      <td>14.0</td>\n",
       "      <td>0.0</td>\n",
       "      <td>14.0</td>\n",
       "      <td>0.0</td>\n",
       "      <td>0.0</td>\n",
       "      <td>0.0</td>\n",
       "      <td>2.0</td>\n",
       "      <td>2.0</td>\n",
       "      <td>POLYGON ((-87.62913 41.81645, -87.62893 41.816...</td>\n",
       "    </tr>\n",
       "    <tr>\n",
       "      <th>796</th>\n",
       "      <td>17031844700</td>\n",
       "      <td>17</td>\n",
       "      <td>031</td>\n",
       "      <td>844700</td>\n",
       "      <td>1573.0</td>\n",
       "      <td>653.0</td>\n",
       "      <td>31898.0</td>\n",
       "      <td>189.0</td>\n",
       "      <td>289.0</td>\n",
       "      <td>140.0</td>\n",
       "      <td>...</td>\n",
       "      <td>296.0</td>\n",
       "      <td>85.0</td>\n",
       "      <td>77.0</td>\n",
       "      <td>8.0</td>\n",
       "      <td>0.0</td>\n",
       "      <td>0.0</td>\n",
       "      <td>0.0</td>\n",
       "      <td>2.0</td>\n",
       "      <td>2.0</td>\n",
       "      <td>POLYGON ((-87.71989 41.85268, -87.71989 41.852...</td>\n",
       "    </tr>\n",
       "    <tr>\n",
       "      <th>797</th>\n",
       "      <td>17031980000</td>\n",
       "      <td>17</td>\n",
       "      <td>031</td>\n",
       "      <td>980000</td>\n",
       "      <td>0.0</td>\n",
       "      <td>0.0</td>\n",
       "      <td>NaN</td>\n",
       "      <td>0.0</td>\n",
       "      <td>0.0</td>\n",
       "      <td>0.0</td>\n",
       "      <td>...</td>\n",
       "      <td>0.0</td>\n",
       "      <td>0.0</td>\n",
       "      <td>0.0</td>\n",
       "      <td>0.0</td>\n",
       "      <td>0.0</td>\n",
       "      <td>0.0</td>\n",
       "      <td>0.0</td>\n",
       "      <td>0.0</td>\n",
       "      <td>0.0</td>\n",
       "      <td>POLYGON ((-87.94025 42.00717, -87.94017 42.007...</td>\n",
       "    </tr>\n",
       "    <tr>\n",
       "      <th>798</th>\n",
       "      <td>17031980100</td>\n",
       "      <td>17</td>\n",
       "      <td>031</td>\n",
       "      <td>980100</td>\n",
       "      <td>0.0</td>\n",
       "      <td>0.0</td>\n",
       "      <td>NaN</td>\n",
       "      <td>0.0</td>\n",
       "      <td>0.0</td>\n",
       "      <td>0.0</td>\n",
       "      <td>...</td>\n",
       "      <td>0.0</td>\n",
       "      <td>0.0</td>\n",
       "      <td>0.0</td>\n",
       "      <td>0.0</td>\n",
       "      <td>0.0</td>\n",
       "      <td>0.0</td>\n",
       "      <td>0.0</td>\n",
       "      <td>0.0</td>\n",
       "      <td>0.0</td>\n",
       "      <td>POLYGON ((-87.76230 41.79274, -87.76206 41.792...</td>\n",
       "    </tr>\n",
       "    <tr>\n",
       "      <th>799</th>\n",
       "      <td>17043840000</td>\n",
       "      <td>17</td>\n",
       "      <td>043</td>\n",
       "      <td>840000</td>\n",
       "      <td>2898.0</td>\n",
       "      <td>937.0</td>\n",
       "      <td>67212.0</td>\n",
       "      <td>84.0</td>\n",
       "      <td>198.0</td>\n",
       "      <td>360.0</td>\n",
       "      <td>...</td>\n",
       "      <td>1080.0</td>\n",
       "      <td>78.0</td>\n",
       "      <td>70.0</td>\n",
       "      <td>8.0</td>\n",
       "      <td>0.0</td>\n",
       "      <td>0.0</td>\n",
       "      <td>0.0</td>\n",
       "      <td>2.0</td>\n",
       "      <td>2.0</td>\n",
       "      <td>POLYGON ((-87.95924 41.99113, -87.95923 41.993...</td>\n",
       "    </tr>\n",
       "  </tbody>\n",
       "</table>\n",
       "<p>800 rows × 23 columns</p>\n",
       "</div>"
      ],
      "text/plain": [
       "           GEOID STATEFP COUNTYFP TRACTFP  TotPop  TotHshld  MedHInc  HH0Veh  \\\n",
       "0    17031010100      17      031  010100  4534.0    2411.0  60316.0  1116.0   \n",
       "1    17031010201      17      031  010201  8232.0    2996.0  43750.0   895.0   \n",
       "2    17031010202      17      031  010202  3124.0    1234.0  45096.0   487.0   \n",
       "3    17031010300      17      031  010300  6085.0    2995.0  60846.0  1108.0   \n",
       "4    17031010400      17      031  010400  4587.0    2034.0  43024.0   989.0   \n",
       "..           ...     ...      ...     ...     ...       ...      ...     ...   \n",
       "795  17031844600      17      031  844600  2490.0     809.0  67634.0   165.0   \n",
       "796  17031844700      17      031  844700  1573.0     653.0  31898.0   189.0   \n",
       "797  17031980000      17      031  980000     0.0       0.0      NaN     0.0   \n",
       "798  17031980100      17      031  980100     0.0       0.0      NaN     0.0   \n",
       "799  17043840000      17      043  840000  2898.0     937.0  67212.0    84.0   \n",
       "\n",
       "     HH1Veh  HH2Veh  ...  WrkAlone  Carpool  Carp2  Carp3  Carp4  Carp56  \\\n",
       "0     912.0   355.0  ...     932.0     35.0    0.0   35.0    0.0     0.0   \n",
       "1    1510.0   496.0  ...    1835.0    294.0  203.0   91.0    0.0     0.0   \n",
       "2     615.0    87.0  ...     556.0     45.0   29.0    9.0    7.0     0.0   \n",
       "3    1095.0   732.0  ...    1722.0    203.0  170.0   15.0   18.0     0.0   \n",
       "4     878.0   150.0  ...     740.0     49.0   10.0    0.0    0.0    39.0   \n",
       "..      ...     ...  ...       ...      ...    ...    ...    ...     ...   \n",
       "795   517.0    60.0  ...     527.0     14.0    0.0   14.0    0.0     0.0   \n",
       "796   289.0   140.0  ...     296.0     85.0   77.0    8.0    0.0     0.0   \n",
       "797     0.0     0.0  ...       0.0      0.0    0.0    0.0    0.0     0.0   \n",
       "798     0.0     0.0  ...       0.0      0.0    0.0    0.0    0.0     0.0   \n",
       "799   198.0   360.0  ...    1080.0     78.0   70.0    8.0    0.0     0.0   \n",
       "\n",
       "     Carp7p  VehAvg  CarpAvg  \\\n",
       "0       0.0     1.0      2.0   \n",
       "1       0.0     1.0      2.0   \n",
       "2       0.0     1.0      2.0   \n",
       "3       0.0     1.0      2.0   \n",
       "4       0.0     1.0      2.0   \n",
       "..      ...     ...      ...   \n",
       "795     0.0     2.0      2.0   \n",
       "796     0.0     2.0      2.0   \n",
       "797     0.0     0.0      0.0   \n",
       "798     0.0     0.0      0.0   \n",
       "799     0.0     2.0      2.0   \n",
       "\n",
       "                                              geometry  \n",
       "0    POLYGON ((-87.67720 42.02294, -87.67628 42.022...  \n",
       "1    POLYGON ((-87.68465 42.01948, -87.68432 42.019...  \n",
       "2    POLYGON ((-87.67683 42.01941, -87.67674 42.019...  \n",
       "3    POLYGON ((-87.67133 42.01937, -87.67121 42.019...  \n",
       "4    POLYGON ((-87.66345 42.01283, -87.66321 42.012...  \n",
       "..                                                 ...  \n",
       "795  POLYGON ((-87.62913 41.81645, -87.62893 41.816...  \n",
       "796  POLYGON ((-87.71989 41.85268, -87.71989 41.852...  \n",
       "797  POLYGON ((-87.94025 42.00717, -87.94017 42.007...  \n",
       "798  POLYGON ((-87.76230 41.79274, -87.76206 41.792...  \n",
       "799  POLYGON ((-87.95924 41.99113, -87.95923 41.993...  \n",
       "\n",
       "[800 rows x 23 columns]"
      ]
     },
     "execution_count": 27,
     "metadata": {},
     "output_type": "execute_result"
    }
   ],
   "source": [
    "census_df"
   ]
  },
  {
   "cell_type": "code",
   "execution_count": 28,
   "id": "97b6f5f3",
   "metadata": {},
   "outputs": [],
   "source": [
    "census_df.to_file('data/Census - Census Tracts/chicago_census data_tract.shp') \n",
    "census_df.to_csv('data/Census - Census Tracts/chicago_census data_tract.csv') "
   ]
  },
  {
   "cell_type": "markdown",
   "id": "d10dcaaf",
   "metadata": {},
   "source": [
    "census_df description\n",
    "- GEOID: 11 digits FIPS code\n",
    "- STATEFP: State code\n",
    "- COUNTYFP: County code\n",
    "- TRACTFP: Census tract code\n",
    "- ZIPCODE: Postal Zipcode\n",
    "- TotPop: total population\n",
    "- TotHshld: total household\n",
    "- MedHInc: household median income\n",
    "- HH0Veh: household with 0 vehicle\n",
    "- HH1Veh: household with 1 vehicle\n",
    "- HH2Veh: household with 2 vehicle\n",
    "- HH3Veh: household with 3 vehicles\n",
    "- HH4pVeh: household with >4 vehicles\n",
    "- WrkDrv: total worker drive to work\n",
    "- WrkAlone: total worker drive alone to work\n",
    "- Carpool: total worker drive in carpooled to work\n",
    "- Carp2: total worker drive in carpooled 2 people to work\n",
    "- Carp3: total worker drive in carpooled 3 people to work\n",
    "- Carp4: total worker drive in carpooled 4 people to work\n",
    "- Carp56: total worker drive in carpooled 5-6 people to work\n",
    "- Carp7p: total worker drive in carpooled >7 people to work\n",
    "- VehAvg: average total vehicle in a household\n",
    "- CarpAvg: average people in car\n",
    "- geometry: shape of census tract"
   ]
  },
  {
   "cell_type": "code",
   "execution_count": 29,
   "id": "47160b57",
   "metadata": {},
   "outputs": [],
   "source": [
    "filename = 'data/Census - Census Tracts/chicago_census data_tract.shp'\n",
    "census_df = gpd.read_file(filename)"
   ]
  },
  {
   "cell_type": "code",
   "execution_count": 30,
   "id": "aa4e4436",
   "metadata": {},
   "outputs": [
    {
     "name": "stdout",
     "output_type": "stream",
     "text": [
      "           GEOID STATEFP COUNTYFP TRACTFP  TotPop  TotHshld  MedHInc  HH0Veh  \\\n",
      "0    17031010100      17      031  010100  4534.0    2411.0  60316.0  1116.0   \n",
      "1    17031010201      17      031  010201  8232.0    2996.0  43750.0   895.0   \n",
      "2    17031010202      17      031  010202  3124.0    1234.0  45096.0   487.0   \n",
      "3    17031010300      17      031  010300  6085.0    2995.0  60846.0  1108.0   \n",
      "4    17031010400      17      031  010400  4587.0    2034.0  43024.0   989.0   \n",
      "..           ...     ...      ...     ...     ...       ...      ...     ...   \n",
      "795  17031844600      17      031  844600  2490.0     809.0  67634.0   165.0   \n",
      "796  17031844700      17      031  844700  1573.0     653.0  31898.0   189.0   \n",
      "797  17031980000      17      031  980000     0.0       0.0      NaN     0.0   \n",
      "798  17031980100      17      031  980100     0.0       0.0      NaN     0.0   \n",
      "799  17043840000      17      043  840000  2898.0     937.0  67212.0    84.0   \n",
      "\n",
      "     HH1Veh  HH2Veh  ...  WrkAlone  Carpool  Carp2  Carp3  Carp4  Carp56  \\\n",
      "0     912.0   355.0  ...     932.0     35.0    0.0   35.0    0.0     0.0   \n",
      "1    1510.0   496.0  ...    1835.0    294.0  203.0   91.0    0.0     0.0   \n",
      "2     615.0    87.0  ...     556.0     45.0   29.0    9.0    7.0     0.0   \n",
      "3    1095.0   732.0  ...    1722.0    203.0  170.0   15.0   18.0     0.0   \n",
      "4     878.0   150.0  ...     740.0     49.0   10.0    0.0    0.0    39.0   \n",
      "..      ...     ...  ...       ...      ...    ...    ...    ...     ...   \n",
      "795   517.0    60.0  ...     527.0     14.0    0.0   14.0    0.0     0.0   \n",
      "796   289.0   140.0  ...     296.0     85.0   77.0    8.0    0.0     0.0   \n",
      "797     0.0     0.0  ...       0.0      0.0    0.0    0.0    0.0     0.0   \n",
      "798     0.0     0.0  ...       0.0      0.0    0.0    0.0    0.0     0.0   \n",
      "799   198.0   360.0  ...    1080.0     78.0   70.0    8.0    0.0     0.0   \n",
      "\n",
      "     Carp7p  VehAvg  CarpAvg  \\\n",
      "0       0.0     1.0      2.0   \n",
      "1       0.0     1.0      2.0   \n",
      "2       0.0     1.0      2.0   \n",
      "3       0.0     1.0      2.0   \n",
      "4       0.0     1.0      2.0   \n",
      "..      ...     ...      ...   \n",
      "795     0.0     2.0      2.0   \n",
      "796     0.0     2.0      2.0   \n",
      "797     0.0     0.0      0.0   \n",
      "798     0.0     0.0      0.0   \n",
      "799     0.0     2.0      2.0   \n",
      "\n",
      "                                              geometry  \n",
      "0    POLYGON ((-87.67720 42.02294, -87.67628 42.022...  \n",
      "1    POLYGON ((-87.68465 42.01948, -87.68432 42.019...  \n",
      "2    POLYGON ((-87.67683 42.01941, -87.67674 42.019...  \n",
      "3    POLYGON ((-87.67133 42.01937, -87.67121 42.019...  \n",
      "4    POLYGON ((-87.66345 42.01283, -87.66321 42.012...  \n",
      "..                                                 ...  \n",
      "795  POLYGON ((-87.62913 41.81645, -87.62893 41.816...  \n",
      "796  POLYGON ((-87.71989 41.85268, -87.71989 41.852...  \n",
      "797  POLYGON ((-87.94025 42.00717, -87.94017 42.007...  \n",
      "798  POLYGON ((-87.76230 41.79274, -87.76206 41.792...  \n",
      "799  POLYGON ((-87.95924 41.99113, -87.95923 41.993...  \n",
      "\n",
      "[800 rows x 23 columns]\n"
     ]
    }
   ],
   "source": [
    "print(census_df)"
   ]
  },
  {
   "cell_type": "code",
   "execution_count": 31,
   "id": "4b2414b3",
   "metadata": {},
   "outputs": [
    {
     "data": {
      "text/plain": [
       "<AxesSubplot:>"
      ]
     },
     "execution_count": 31,
     "metadata": {},
     "output_type": "execute_result"
    },
    {
     "data": {
      "image/png": "[encoded data removed]",
      "text/plain": [
       "<Figure size 720x720 with 1 Axes>"
      ]
     },
     "metadata": {
      "needs_background": "light"
     },
     "output_type": "display_data"
    }
   ],
   "source": [
    "fig, ax = plt.subplots(figsize = (10,10))\n",
    "plt.rcParams['figure.dpi'] = 100\n",
    "census_df.plot(ax=ax, column = 'TotPop')  "
   ]
  },
  {
   "cell_type": "code",
   "execution_count": null,
   "id": "d152fd7e",
   "metadata": {},
   "outputs": [],
   "source": []
  }
 ],
 "metadata": {
  "kernelspec": {
   "display_name": "Python 3 (ipykernel)",
   "language": "python",
   "name": "python3"
  },
  "language_info": {
   "codemirror_mode": {
    "name": "ipython",
    "version": 3
   },
   "file_extension": ".py",
   "mimetype": "text/x-python",
   "name": "python",
   "nbconvert_exporter": "python",
   "pygments_lexer": "ipython3",
   "version": "3.9.12"
  }
 },
 "nbformat": 4,
 "nbformat_minor": 5
}
